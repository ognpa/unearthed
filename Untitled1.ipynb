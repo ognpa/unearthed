{
 "cells": [
  {
   "cell_type": "code",
   "execution_count": 21,
   "metadata": {},
   "outputs": [],
   "source": [
    "import pandas as pd\n",
    "tc_df=pd.read_csv(\"Truck Cycle.csv\")\n",
    "truck_spec=pd.read_excel(\"Truck_Spec.xlsx\",sheet=\"Truck Spec\")\n",
    "truck_spec['Truck ID']=truck_spec['Truck ID'].apply(lambda x:'TRH'+str(x))\n",
    "\n"
   ]
  },
  {
   "cell_type": "code",
   "execution_count": 22,
   "metadata": {},
   "outputs": [
    {
     "data": {
      "text/html": [
       "<div>\n",
       "<style scoped>\n",
       "    .dataframe tbody tr th:only-of-type {\n",
       "        vertical-align: middle;\n",
       "    }\n",
       "\n",
       "    .dataframe tbody tr th {\n",
       "        vertical-align: top;\n",
       "    }\n",
       "\n",
       "    .dataframe thead th {\n",
       "        text-align: right;\n",
       "    }\n",
       "</style>\n",
       "<table border=\"1\" class=\"dataframe\">\n",
       "  <thead>\n",
       "    <tr style=\"text-align: right;\">\n",
       "      <th></th>\n",
       "      <th>Date</th>\n",
       "      <th>Source Stage</th>\n",
       "      <th>Source bench</th>\n",
       "      <th>Destination name</th>\n",
       "      <th>Truck</th>\n",
       "      <th>Travelling empty duration</th>\n",
       "      <th>Travelling full duration</th>\n",
       "      <th>Payload</th>\n",
       "      <th>Full slope length</th>\n",
       "      <th>Empty slope length</th>\n",
       "      <th>Inpit Ramp length</th>\n",
       "      <th>Inpit Ramp Grade</th>\n",
       "      <th>Dump Ramp length</th>\n",
       "      <th>Dump Ramp Grade</th>\n",
       "      <th>Truck ID</th>\n",
       "      <th>Truck Type</th>\n",
       "      <th>Empty Weight (kg)</th>\n",
       "      <th>Max Gross OperatingWeight</th>\n",
       "    </tr>\n",
       "  </thead>\n",
       "  <tbody>\n",
       "    <tr>\n",
       "      <th>0</th>\n",
       "      <td>01/01/2017</td>\n",
       "      <td>Stage G</td>\n",
       "      <td>920</td>\n",
       "      <td>MW_PRIME</td>\n",
       "      <td>TRH402</td>\n",
       "      <td>0.0</td>\n",
       "      <td>1009</td>\n",
       "      <td>179.7</td>\n",
       "      <td>3,888.21</td>\n",
       "      <td>42.94</td>\n",
       "      <td>3,108.02</td>\n",
       "      <td>9.34%</td>\n",
       "      <td>336.00</td>\n",
       "      <td>8.33%</td>\n",
       "      <td>TRH402</td>\n",
       "      <td>789C</td>\n",
       "      <td>114114</td>\n",
       "      <td>317514.85</td>\n",
       "    </tr>\n",
       "    <tr>\n",
       "      <th>1</th>\n",
       "      <td>01/01/2017</td>\n",
       "      <td>Stage G</td>\n",
       "      <td>912</td>\n",
       "      <td>ROM_01</td>\n",
       "      <td>TRH402</td>\n",
       "      <td>1259.0</td>\n",
       "      <td>1022</td>\n",
       "      <td>151.9</td>\n",
       "      <td>4,542.65</td>\n",
       "      <td>4,193.04</td>\n",
       "      <td>3,263.69</td>\n",
       "      <td>9.14%</td>\n",
       "      <td>135.00</td>\n",
       "      <td>6.67%</td>\n",
       "      <td>TRH402</td>\n",
       "      <td>789C</td>\n",
       "      <td>114114</td>\n",
       "      <td>317514.85</td>\n",
       "    </tr>\n",
       "    <tr>\n",
       "      <th>2</th>\n",
       "      <td>01/01/2017</td>\n",
       "      <td>Stage G</td>\n",
       "      <td>912</td>\n",
       "      <td>CRUSH01</td>\n",
       "      <td>TRH402</td>\n",
       "      <td>625.0</td>\n",
       "      <td>1102</td>\n",
       "      <td>184.5</td>\n",
       "      <td>5,300.56</td>\n",
       "      <td>4,616.52</td>\n",
       "      <td>3,263.69</td>\n",
       "      <td>9.14%</td>\n",
       "      <td>-</td>\n",
       "      <td>0.00%</td>\n",
       "      <td>TRH402</td>\n",
       "      <td>789C</td>\n",
       "      <td>114114</td>\n",
       "      <td>317514.85</td>\n",
       "    </tr>\n",
       "    <tr>\n",
       "      <th>3</th>\n",
       "      <td>01/01/2017</td>\n",
       "      <td>Stage G</td>\n",
       "      <td>912</td>\n",
       "      <td>ROM_01</td>\n",
       "      <td>TRH402</td>\n",
       "      <td>1804.0</td>\n",
       "      <td>1087</td>\n",
       "      <td>168.9</td>\n",
       "      <td>5,335.41</td>\n",
       "      <td>6,149.59</td>\n",
       "      <td>3,263.69</td>\n",
       "      <td>9.14%</td>\n",
       "      <td>135.00</td>\n",
       "      <td>6.67%</td>\n",
       "      <td>TRH402</td>\n",
       "      <td>789C</td>\n",
       "      <td>114114</td>\n",
       "      <td>317514.85</td>\n",
       "    </tr>\n",
       "    <tr>\n",
       "      <th>4</th>\n",
       "      <td>01/01/2017</td>\n",
       "      <td>Stage G</td>\n",
       "      <td>903</td>\n",
       "      <td>CRUSH01</td>\n",
       "      <td>TRH402</td>\n",
       "      <td>2895.0</td>\n",
       "      <td>1093</td>\n",
       "      <td>173.5</td>\n",
       "      <td>5,662.90</td>\n",
       "      <td>5,613.46</td>\n",
       "      <td>3,362.25</td>\n",
       "      <td>9.14%</td>\n",
       "      <td>-</td>\n",
       "      <td>0.00%</td>\n",
       "      <td>TRH402</td>\n",
       "      <td>789C</td>\n",
       "      <td>114114</td>\n",
       "      <td>317514.85</td>\n",
       "    </tr>\n",
       "  </tbody>\n",
       "</table>\n",
       "</div>"
      ],
      "text/plain": [
       "         Date Source Stage  Source bench Destination name   Truck  \\\n",
       "0  01/01/2017      Stage G           920         MW_PRIME  TRH402   \n",
       "1  01/01/2017      Stage G           912           ROM_01  TRH402   \n",
       "2  01/01/2017      Stage G           912          CRUSH01  TRH402   \n",
       "3  01/01/2017      Stage G           912           ROM_01  TRH402   \n",
       "4  01/01/2017      Stage G           903          CRUSH01  TRH402   \n",
       "\n",
       "   Travelling empty duration  Travelling full duration  Payload  \\\n",
       "0                        0.0                      1009    179.7   \n",
       "1                     1259.0                      1022    151.9   \n",
       "2                      625.0                      1102    184.5   \n",
       "3                     1804.0                      1087    168.9   \n",
       "4                     2895.0                      1093    173.5   \n",
       "\n",
       "  Full slope length Empty slope length Inpit Ramp length Inpit Ramp Grade  \\\n",
       "0         3,888.21              42.94          3,108.02             9.34%   \n",
       "1         4,542.65           4,193.04          3,263.69             9.14%   \n",
       "2         5,300.56           4,616.52          3,263.69             9.14%   \n",
       "3         5,335.41           6,149.59          3,263.69             9.14%   \n",
       "4         5,662.90           5,613.46          3,362.25             9.14%   \n",
       "\n",
       "  Dump Ramp length Dump Ramp Grade Truck ID Truck Type  Empty Weight (kg)  \\\n",
       "0          336.00            8.33%   TRH402       789C             114114   \n",
       "1          135.00            6.67%   TRH402       789C             114114   \n",
       "2             -              0.00%   TRH402       789C             114114   \n",
       "3          135.00            6.67%   TRH402       789C             114114   \n",
       "4             -              0.00%   TRH402       789C             114114   \n",
       "\n",
       "   Max Gross OperatingWeight  \n",
       "0                  317514.85  \n",
       "1                  317514.85  \n",
       "2                  317514.85  \n",
       "3                  317514.85  \n",
       "4                  317514.85  "
      ]
     },
     "execution_count": 22,
     "metadata": {},
     "output_type": "execute_result"
    }
   ],
   "source": [
    "tc_df=tc_df.merge(truck_spec,left_on='Truck',right_on='Truck ID')\n",
    "\n",
    "tc_df.head()"
   ]
  },
  {
   "cell_type": "code",
   "execution_count": 23,
   "metadata": {},
   "outputs": [],
   "source": [
    "tc_df['Payload_tonnes']=tc_df['Payload']*(1000)\n"
   ]
  },
  {
   "cell_type": "code",
   "execution_count": 26,
   "metadata": {},
   "outputs": [],
   "source": [
    "tc_df['Truck_Travel_Time_Hours']=tc_df['Travelling full duration']/60\n"
   ]
  },
  {
   "cell_type": "code",
   "execution_count": 28,
   "metadata": {},
   "outputs": [
    {
     "data": {
      "text/plain": [
       "count    78155.000000\n",
       "mean        15.901309\n",
       "std          6.846602\n",
       "min          0.000000\n",
       "25%          8.716667\n",
       "50%         18.183333\n",
       "75%         20.350000\n",
       "max        177.666667\n",
       "Name: Truck_Travel_Time_Hours, dtype: float64"
      ]
     },
     "execution_count": 28,
     "metadata": {},
     "output_type": "execute_result"
    }
   ],
   "source": [
    "tc_df['Truck_Travel_Time_Hours'].describe()"
   ]
  },
  {
   "cell_type": "code",
   "execution_count": 31,
   "metadata": {},
   "outputs": [
    {
     "data": {
      "text/plain": [
       "(13, 20)"
      ]
     },
     "execution_count": 31,
     "metadata": {},
     "output_type": "execute_result"
    }
   ],
   "source": [
    "tc_df.loc[tc_df['Truck_Travel_Time_Hours']>100,].shape"
   ]
  },
  {
   "cell_type": "code",
   "execution_count": 33,
   "metadata": {},
   "outputs": [
    {
     "name": "stderr",
     "output_type": "stream",
     "text": [
      "/anaconda3/lib/python3.6/site-packages/ggplot/utils.py:81: FutureWarning: pandas.tslib is deprecated and will be removed in a future version.\n",
      "You can access Timestamp as pandas.Timestamp\n",
      "  pd.tslib.Timestamp,\n",
      "/anaconda3/lib/python3.6/site-packages/ggplot/stats/smoothers.py:4: FutureWarning: The pandas.lib module is deprecated and will be removed in a future version. These are private functions and can be accessed from pandas._libs.lib instead\n",
      "  from pandas.lib import Timestamp\n",
      "/anaconda3/lib/python3.6/site-packages/statsmodels/compat/pandas.py:56: FutureWarning: The pandas.core.datetools module is deprecated and will be removed in a future version. Please use the pandas.tseries module instead.\n",
      "  from pandas.core import datetools\n"
     ]
    },
    {
     "data": {
      "image/png": "[encoded data removed]",
      "text/plain": [
       "<matplotlib.figure.Figure at 0x1c1c95a668>"
      ]
     },
     "metadata": {},
     "output_type": "display_data"
    },
    {
     "data": {
      "text/plain": [
       "<ggplot: (291046720)>"
      ]
     },
     "execution_count": 33,
     "metadata": {},
     "output_type": "execute_result"
    }
   ],
   "source": [
    "from ggplot import *\n",
    "\n",
    "ggplot(aes(x='Truck_Travel_Time_Hours',y='Payload'),data=tc_df)+geom_point()"
   ]
  },
  {
   "cell_type": "code",
   "execution_count": 35,
   "metadata": {},
   "outputs": [
    {
     "data": {
      "text/plain": [
       "<matplotlib.axes._subplots.AxesSubplot at 0x1c1cb38f60>"
      ]
     },
     "execution_count": 35,
     "metadata": {},
     "output_type": "execute_result"
    },
    {
     "data": {
      "image/png": "[encoded data removed]",
      "text/plain": [
       "<matplotlib.figure.Figure at 0x1c1cb38cc0>"
      ]
     },
     "metadata": {},
     "output_type": "display_data"
    }
   ],
   "source": [
    "import seaborn as sns\n",
    "sns.stripplot(tc_df['Truck_Travel_Time_Hours'])"
   ]
  },
  {
   "cell_type": "code",
   "execution_count": 36,
   "metadata": {},
   "outputs": [
    {
     "data": {
      "text/plain": [
       "<matplotlib.axes._subplots.AxesSubplot at 0x1c1ca54860>"
      ]
     },
     "execution_count": 36,
     "metadata": {},
     "output_type": "execute_result"
    },
    {
     "data": {
      "image/png": "[encoded data removed]",
      "text/plain": [
       "<matplotlib.figure.Figure at 0x1c1ca3f400>"
      ]
     },
     "metadata": {},
     "output_type": "display_data"
    }
   ],
   "source": [
    "sns.stripplot(tc_df['Payload'])"
   ]
  },
  {
   "cell_type": "code",
   "execution_count": 40,
   "metadata": {},
   "outputs": [
    {
     "data": {
      "text/html": [
       "<div>\n",
       "<style scoped>\n",
       "    .dataframe tbody tr th:only-of-type {\n",
       "        vertical-align: middle;\n",
       "    }\n",
       "\n",
       "    .dataframe tbody tr th {\n",
       "        vertical-align: top;\n",
       "    }\n",
       "\n",
       "    .dataframe thead th {\n",
       "        text-align: right;\n",
       "    }\n",
       "</style>\n",
       "<table border=\"1\" class=\"dataframe\">\n",
       "  <thead>\n",
       "    <tr style=\"text-align: right;\">\n",
       "      <th></th>\n",
       "      <th>Date</th>\n",
       "      <th>Source Stage</th>\n",
       "      <th>Source bench</th>\n",
       "      <th>Destination name</th>\n",
       "      <th>Truck</th>\n",
       "      <th>Travelling empty duration</th>\n",
       "      <th>Travelling full duration</th>\n",
       "      <th>Payload</th>\n",
       "      <th>Full slope length</th>\n",
       "      <th>Empty slope length</th>\n",
       "      <th>...</th>\n",
       "      <th>Dump Ramp length</th>\n",
       "      <th>Dump Ramp Grade</th>\n",
       "      <th>Truck ID</th>\n",
       "      <th>Truck Type</th>\n",
       "      <th>Empty Weight (kg)</th>\n",
       "      <th>Max Gross OperatingWeight</th>\n",
       "      <th>Payload_tonnes</th>\n",
       "      <th>Truck_Travel_Time_Hours</th>\n",
       "      <th>pth</th>\n",
       "      <th>Tonnes_per_hour</th>\n",
       "    </tr>\n",
       "  </thead>\n",
       "  <tbody>\n",
       "    <tr>\n",
       "      <th>0</th>\n",
       "      <td>01/01/2017</td>\n",
       "      <td>Stage G</td>\n",
       "      <td>920</td>\n",
       "      <td>MW_PRIME</td>\n",
       "      <td>TRH402</td>\n",
       "      <td>0.0</td>\n",
       "      <td>1009</td>\n",
       "      <td>179.7</td>\n",
       "      <td>3,888.21</td>\n",
       "      <td>42.94</td>\n",
       "      <td>...</td>\n",
       "      <td>336.00</td>\n",
       "      <td>8.33%</td>\n",
       "      <td>TRH402</td>\n",
       "      <td>789C</td>\n",
       "      <td>114114</td>\n",
       "      <td>317514.85</td>\n",
       "      <td>179700.0</td>\n",
       "      <td>16.816667</td>\n",
       "      <td>10685.827552</td>\n",
       "      <td>10685.827552</td>\n",
       "    </tr>\n",
       "    <tr>\n",
       "      <th>1</th>\n",
       "      <td>01/01/2017</td>\n",
       "      <td>Stage G</td>\n",
       "      <td>912</td>\n",
       "      <td>ROM_01</td>\n",
       "      <td>TRH402</td>\n",
       "      <td>1259.0</td>\n",
       "      <td>1022</td>\n",
       "      <td>151.9</td>\n",
       "      <td>4,542.65</td>\n",
       "      <td>4,193.04</td>\n",
       "      <td>...</td>\n",
       "      <td>135.00</td>\n",
       "      <td>6.67%</td>\n",
       "      <td>TRH402</td>\n",
       "      <td>789C</td>\n",
       "      <td>114114</td>\n",
       "      <td>317514.85</td>\n",
       "      <td>151900.0</td>\n",
       "      <td>17.033333</td>\n",
       "      <td>8917.808219</td>\n",
       "      <td>8917.808219</td>\n",
       "    </tr>\n",
       "    <tr>\n",
       "      <th>2</th>\n",
       "      <td>01/01/2017</td>\n",
       "      <td>Stage G</td>\n",
       "      <td>912</td>\n",
       "      <td>CRUSH01</td>\n",
       "      <td>TRH402</td>\n",
       "      <td>625.0</td>\n",
       "      <td>1102</td>\n",
       "      <td>184.5</td>\n",
       "      <td>5,300.56</td>\n",
       "      <td>4,616.52</td>\n",
       "      <td>...</td>\n",
       "      <td>-</td>\n",
       "      <td>0.00%</td>\n",
       "      <td>TRH402</td>\n",
       "      <td>789C</td>\n",
       "      <td>114114</td>\n",
       "      <td>317514.85</td>\n",
       "      <td>184500.0</td>\n",
       "      <td>18.366667</td>\n",
       "      <td>10045.372051</td>\n",
       "      <td>10045.372051</td>\n",
       "    </tr>\n",
       "    <tr>\n",
       "      <th>3</th>\n",
       "      <td>01/01/2017</td>\n",
       "      <td>Stage G</td>\n",
       "      <td>912</td>\n",
       "      <td>ROM_01</td>\n",
       "      <td>TRH402</td>\n",
       "      <td>1804.0</td>\n",
       "      <td>1087</td>\n",
       "      <td>168.9</td>\n",
       "      <td>5,335.41</td>\n",
       "      <td>6,149.59</td>\n",
       "      <td>...</td>\n",
       "      <td>135.00</td>\n",
       "      <td>6.67%</td>\n",
       "      <td>TRH402</td>\n",
       "      <td>789C</td>\n",
       "      <td>114114</td>\n",
       "      <td>317514.85</td>\n",
       "      <td>168900.0</td>\n",
       "      <td>18.116667</td>\n",
       "      <td>9322.907084</td>\n",
       "      <td>9322.907084</td>\n",
       "    </tr>\n",
       "    <tr>\n",
       "      <th>4</th>\n",
       "      <td>01/01/2017</td>\n",
       "      <td>Stage G</td>\n",
       "      <td>903</td>\n",
       "      <td>CRUSH01</td>\n",
       "      <td>TRH402</td>\n",
       "      <td>2895.0</td>\n",
       "      <td>1093</td>\n",
       "      <td>173.5</td>\n",
       "      <td>5,662.90</td>\n",
       "      <td>5,613.46</td>\n",
       "      <td>...</td>\n",
       "      <td>-</td>\n",
       "      <td>0.00%</td>\n",
       "      <td>TRH402</td>\n",
       "      <td>789C</td>\n",
       "      <td>114114</td>\n",
       "      <td>317514.85</td>\n",
       "      <td>173500.0</td>\n",
       "      <td>18.216667</td>\n",
       "      <td>9524.245197</td>\n",
       "      <td>9524.245197</td>\n",
       "    </tr>\n",
       "  </tbody>\n",
       "</table>\n",
       "<p>5 rows × 22 columns</p>\n",
       "</div>"
      ],
      "text/plain": [
       "         Date Source Stage  Source bench Destination name   Truck  \\\n",
       "0  01/01/2017      Stage G           920         MW_PRIME  TRH402   \n",
       "1  01/01/2017      Stage G           912           ROM_01  TRH402   \n",
       "2  01/01/2017      Stage G           912          CRUSH01  TRH402   \n",
       "3  01/01/2017      Stage G           912           ROM_01  TRH402   \n",
       "4  01/01/2017      Stage G           903          CRUSH01  TRH402   \n",
       "\n",
       "   Travelling empty duration  Travelling full duration  Payload  \\\n",
       "0                        0.0                      1009    179.7   \n",
       "1                     1259.0                      1022    151.9   \n",
       "2                      625.0                      1102    184.5   \n",
       "3                     1804.0                      1087    168.9   \n",
       "4                     2895.0                      1093    173.5   \n",
       "\n",
       "  Full slope length Empty slope length       ...        Dump Ramp length  \\\n",
       "0         3,888.21              42.94        ...                 336.00    \n",
       "1         4,542.65           4,193.04        ...                 135.00    \n",
       "2         5,300.56           4,616.52        ...                    -      \n",
       "3         5,335.41           6,149.59        ...                 135.00    \n",
       "4         5,662.90           5,613.46        ...                    -      \n",
       "\n",
       "  Dump Ramp Grade Truck ID Truck Type Empty Weight (kg)  \\\n",
       "0           8.33%   TRH402       789C            114114   \n",
       "1           6.67%   TRH402       789C            114114   \n",
       "2           0.00%   TRH402       789C            114114   \n",
       "3           6.67%   TRH402       789C            114114   \n",
       "4           0.00%   TRH402       789C            114114   \n",
       "\n",
       "  Max Gross OperatingWeight  Payload_tonnes  Truck_Travel_Time_Hours  \\\n",
       "0                 317514.85        179700.0                16.816667   \n",
       "1                 317514.85        151900.0                17.033333   \n",
       "2                 317514.85        184500.0                18.366667   \n",
       "3                 317514.85        168900.0                18.116667   \n",
       "4                 317514.85        173500.0                18.216667   \n",
       "\n",
       "            pth  Tonnes_per_hour  \n",
       "0  10685.827552     10685.827552  \n",
       "1   8917.808219      8917.808219  \n",
       "2  10045.372051     10045.372051  \n",
       "3   9322.907084      9322.907084  \n",
       "4   9524.245197      9524.245197  \n",
       "\n",
       "[5 rows x 22 columns]"
      ]
     },
     "execution_count": 40,
     "metadata": {},
     "output_type": "execute_result"
    }
   ],
   "source": [
    "tc_df['Tonnes_per_hour']=tc_df['Payload_tonnes']/tc_df['Truck_Travel_Time_Hours']\n",
    "tc_df.head()"
   ]
  },
  {
   "cell_type": "code",
   "execution_count": 51,
   "metadata": {},
   "outputs": [],
   "source": [
    "def cleanup(col):\n",
    "\n",
    "    tc_df[col]=tc_df[col].str.replace(\",\",\"\")\n",
    "    tc_df[col]=tc_df[col].str.replace(\"-\",\"\")\n",
    "    tc_df[col]=tc_df[col].str.replace(\" \",\"0\")\n",
    "    return tc_df\n",
    "\n",
    "tc_df=cleanup('Full slope length')\n",
    "tc_df=cleanup('Empty slope length')\n",
    "tc_df=cleanup('Inpit Ramp length')\n",
    "tc_df=cleanup('Inpit Ramp Grade')\n",
    "tc_df=cleanup('Dump Ramp Grade')\n",
    "tc_df=cleanup('Dump Ramp length')\n",
    "\n",
    "tc_df.head()\n",
    "\n",
    "def cleanup_perc(col):\n",
    "    tc_df[col]=tc_df[col].str.replace(\"%\",\"\")\n",
    "    return tc_df\n",
    "\n",
    "tc_df=cleanup_perc(\"Inpit Ramp Grade\")\n",
    "tc_df=cleanup_perc(\"Dump Ramp Grade\")\n",
    "df=tc_df.loc[:,['Truck_Travel_Time_Hours','Tonnes_per_hour','Inpit Ramp Grade','Inpit Ramp length']]"
   ]
  },
  {
   "cell_type": "code",
   "execution_count": 52,
   "metadata": {},
   "outputs": [
    {
     "data": {
      "text/html": [
       "<div>\n",
       "<style scoped>\n",
       "    .dataframe tbody tr th:only-of-type {\n",
       "        vertical-align: middle;\n",
       "    }\n",
       "\n",
       "    .dataframe tbody tr th {\n",
       "        vertical-align: top;\n",
       "    }\n",
       "\n",
       "    .dataframe thead th {\n",
       "        text-align: right;\n",
       "    }\n",
       "</style>\n",
       "<table border=\"1\" class=\"dataframe\">\n",
       "  <thead>\n",
       "    <tr style=\"text-align: right;\">\n",
       "      <th></th>\n",
       "      <th>Truck_Travel_Time_Hours</th>\n",
       "      <th>Inpit Ramp Grade</th>\n",
       "      <th>Inpit Ramp length</th>\n",
       "    </tr>\n",
       "  </thead>\n",
       "  <tbody>\n",
       "    <tr>\n",
       "      <th>38636</th>\n",
       "      <td>18.483333</td>\n",
       "      <td>9.17</td>\n",
       "      <td>03503.830</td>\n",
       "    </tr>\n",
       "    <tr>\n",
       "      <th>2710</th>\n",
       "      <td>20.316667</td>\n",
       "      <td>9.15</td>\n",
       "      <td>03411.750</td>\n",
       "    </tr>\n",
       "    <tr>\n",
       "      <th>13758</th>\n",
       "      <td>17.750000</td>\n",
       "      <td>9.14</td>\n",
       "      <td>03263.690</td>\n",
       "    </tr>\n",
       "    <tr>\n",
       "      <th>50759</th>\n",
       "      <td>7.866667</td>\n",
       "      <td>9.54</td>\n",
       "      <td>0188.460</td>\n",
       "    </tr>\n",
       "    <tr>\n",
       "      <th>70308</th>\n",
       "      <td>22.233333</td>\n",
       "      <td>9.17</td>\n",
       "      <td>03602.680</td>\n",
       "    </tr>\n",
       "  </tbody>\n",
       "</table>\n",
       "</div>"
      ],
      "text/plain": [
       "       Truck_Travel_Time_Hours Inpit Ramp Grade Inpit Ramp length\n",
       "38636                18.483333             9.17         03503.830\n",
       "2710                 20.316667             9.15         03411.750\n",
       "13758                17.750000             9.14         03263.690\n",
       "50759                 7.866667             9.54          0188.460\n",
       "70308                22.233333             9.17         03602.680"
      ]
     },
     "execution_count": 52,
     "metadata": {},
     "output_type": "execute_result"
    }
   ],
   "source": [
    "X=df.loc[:,['Truck_Travel_Time_Hours','Inpit Ramp Grade','Inpit Ramp length']]\n",
    "y=df.Tonnes_per_hour\n",
    "\n",
    "\n",
    "from sklearn.model_selection import train_test_split\n",
    "X_train, X_test, y_train, y_test=train_test_split(X,y,test_size=0.2,random_state=32,shuffle=True)\n",
    "X_train.head()\n",
    "    "
   ]
  },
  {
   "cell_type": "code",
   "execution_count": 53,
   "metadata": {},
   "outputs": [
    {
     "ename": "ValueError",
     "evalue": "Input contains NaN, infinity or a value too large for dtype('float64').",
     "output_type": "error",
     "traceback": [
      "\u001b[0;31m---------------------------------------------------------------------------\u001b[0m",
      "\u001b[0;31mValueError\u001b[0m                                Traceback (most recent call last)",
      "\u001b[0;32m<ipython-input-53-3092e65f9126>\u001b[0m in \u001b[0;36m<module>\u001b[0;34m()\u001b[0m\n\u001b[1;32m      2\u001b[0m \u001b[0;32mfrom\u001b[0m \u001b[0msklearn\u001b[0m\u001b[0;34m.\u001b[0m\u001b[0mmetrics\u001b[0m \u001b[0;32mimport\u001b[0m \u001b[0mroc_auc_score\u001b[0m\u001b[0;34m\u001b[0m\u001b[0m\n\u001b[1;32m      3\u001b[0m \u001b[0mrf\u001b[0m\u001b[0;34m=\u001b[0m\u001b[0mRandomForestRegressor\u001b[0m\u001b[0;34m(\u001b[0m\u001b[0mn_estimators\u001b[0m\u001b[0;34m=\u001b[0m\u001b[0;36m100\u001b[0m\u001b[0;34m)\u001b[0m\u001b[0;34m\u001b[0m\u001b[0m\n\u001b[0;32m----> 4\u001b[0;31m \u001b[0mrf\u001b[0m\u001b[0;34m.\u001b[0m\u001b[0mfit\u001b[0m\u001b[0;34m(\u001b[0m\u001b[0mX_train\u001b[0m\u001b[0;34m,\u001b[0m\u001b[0my_train\u001b[0m\u001b[0;34m)\u001b[0m\u001b[0;34m\u001b[0m\u001b[0m\n\u001b[0m",
      "\u001b[0;32m/anaconda3/lib/python3.6/site-packages/sklearn/ensemble/forest.py\u001b[0m in \u001b[0;36mfit\u001b[0;34m(self, X, y, sample_weight)\u001b[0m\n\u001b[1;32m    246\u001b[0m         \u001b[0;31m# Validate or convert input data\u001b[0m\u001b[0;34m\u001b[0m\u001b[0;34m\u001b[0m\u001b[0m\n\u001b[1;32m    247\u001b[0m         \u001b[0mX\u001b[0m \u001b[0;34m=\u001b[0m \u001b[0mcheck_array\u001b[0m\u001b[0;34m(\u001b[0m\u001b[0mX\u001b[0m\u001b[0;34m,\u001b[0m \u001b[0maccept_sparse\u001b[0m\u001b[0;34m=\u001b[0m\u001b[0;34m\"csc\"\u001b[0m\u001b[0;34m,\u001b[0m \u001b[0mdtype\u001b[0m\u001b[0;34m=\u001b[0m\u001b[0mDTYPE\u001b[0m\u001b[0;34m)\u001b[0m\u001b[0;34m\u001b[0m\u001b[0m\n\u001b[0;32m--> 248\u001b[0;31m         \u001b[0my\u001b[0m \u001b[0;34m=\u001b[0m \u001b[0mcheck_array\u001b[0m\u001b[0;34m(\u001b[0m\u001b[0my\u001b[0m\u001b[0;34m,\u001b[0m \u001b[0maccept_sparse\u001b[0m\u001b[0;34m=\u001b[0m\u001b[0;34m'csc'\u001b[0m\u001b[0;34m,\u001b[0m \u001b[0mensure_2d\u001b[0m\u001b[0;34m=\u001b[0m\u001b[0;32mFalse\u001b[0m\u001b[0;34m,\u001b[0m \u001b[0mdtype\u001b[0m\u001b[0;34m=\u001b[0m\u001b[0;32mNone\u001b[0m\u001b[0;34m)\u001b[0m\u001b[0;34m\u001b[0m\u001b[0m\n\u001b[0m\u001b[1;32m    249\u001b[0m         \u001b[0;32mif\u001b[0m \u001b[0msample_weight\u001b[0m \u001b[0;32mis\u001b[0m \u001b[0;32mnot\u001b[0m \u001b[0;32mNone\u001b[0m\u001b[0;34m:\u001b[0m\u001b[0;34m\u001b[0m\u001b[0m\n\u001b[1;32m    250\u001b[0m             \u001b[0msample_weight\u001b[0m \u001b[0;34m=\u001b[0m \u001b[0mcheck_array\u001b[0m\u001b[0;34m(\u001b[0m\u001b[0msample_weight\u001b[0m\u001b[0;34m,\u001b[0m \u001b[0mensure_2d\u001b[0m\u001b[0;34m=\u001b[0m\u001b[0;32mFalse\u001b[0m\u001b[0;34m)\u001b[0m\u001b[0;34m\u001b[0m\u001b[0m\n",
      "\u001b[0;32m/anaconda3/lib/python3.6/site-packages/sklearn/utils/validation.py\u001b[0m in \u001b[0;36mcheck_array\u001b[0;34m(array, accept_sparse, dtype, order, copy, force_all_finite, ensure_2d, allow_nd, ensure_min_samples, ensure_min_features, warn_on_dtype, estimator)\u001b[0m\n\u001b[1;32m    451\u001b[0m                              % (array.ndim, estimator_name))\n\u001b[1;32m    452\u001b[0m         \u001b[0;32mif\u001b[0m \u001b[0mforce_all_finite\u001b[0m\u001b[0;34m:\u001b[0m\u001b[0;34m\u001b[0m\u001b[0m\n\u001b[0;32m--> 453\u001b[0;31m             \u001b[0m_assert_all_finite\u001b[0m\u001b[0;34m(\u001b[0m\u001b[0marray\u001b[0m\u001b[0;34m)\u001b[0m\u001b[0;34m\u001b[0m\u001b[0m\n\u001b[0m\u001b[1;32m    454\u001b[0m \u001b[0;34m\u001b[0m\u001b[0m\n\u001b[1;32m    455\u001b[0m     \u001b[0mshape_repr\u001b[0m \u001b[0;34m=\u001b[0m \u001b[0m_shape_repr\u001b[0m\u001b[0;34m(\u001b[0m\u001b[0marray\u001b[0m\u001b[0;34m.\u001b[0m\u001b[0mshape\u001b[0m\u001b[0;34m)\u001b[0m\u001b[0;34m\u001b[0m\u001b[0m\n",
      "\u001b[0;32m/anaconda3/lib/python3.6/site-packages/sklearn/utils/validation.py\u001b[0m in \u001b[0;36m_assert_all_finite\u001b[0;34m(X)\u001b[0m\n\u001b[1;32m     42\u001b[0m             and not np.isfinite(X).all()):\n\u001b[1;32m     43\u001b[0m         raise ValueError(\"Input contains NaN, infinity\"\n\u001b[0;32m---> 44\u001b[0;31m                          \" or a value too large for %r.\" % X.dtype)\n\u001b[0m\u001b[1;32m     45\u001b[0m \u001b[0;34m\u001b[0m\u001b[0m\n\u001b[1;32m     46\u001b[0m \u001b[0;34m\u001b[0m\u001b[0m\n",
      "\u001b[0;31mValueError\u001b[0m: Input contains NaN, infinity or a value too large for dtype('float64')."
     ]
    }
   ],
   "source": [
    "from sklearn.ensemble import RandomForestRegressor\n",
    "from sklearn.metrics import roc_auc_score\n",
    "rf=RandomForestRegressor(n_estimators=100)\n",
    "rf.fit(X_train,y_train)"
   ]
  },
  {
   "cell_type": "code",
   "execution_count": null,
   "metadata": {},
   "outputs": [],
   "source": []
  }
 ],
 "metadata": {
  "kernelspec": {
   "display_name": "Python 3",
   "language": "python",
   "name": "python3"
  },
  "language_info": {
   "codemirror_mode": {
    "name": "ipython",
    "version": 3
   },
   "file_extension": ".py",
   "mimetype": "text/x-python",
   "name": "python",
   "nbconvert_exporter": "python",
   "pygments_lexer": "ipython3",
   "version": "3.6.4"
  }
 },
 "nbformat": 4,
 "nbformat_minor": 2
}
